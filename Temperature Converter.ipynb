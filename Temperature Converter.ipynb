{
 "cells": [
  {
   "cell_type": "code",
   "execution_count": 1,
   "id": "3979209b-01a9-488f-8075-cdf2469369b2",
   "metadata": {},
   "outputs": [
    {
     "name": "stdin",
     "output_type": "stream",
     "text": [
      "Enter the temperature:  90\n",
      "Enter the unit (C for Celsius, F for Fahrenheit, K for Kelvin):  c\n"
     ]
    },
    {
     "name": "stdout",
     "output_type": "stream",
     "text": [
      "90.0°C is 194.00°F and 363.15K\n"
     ]
    }
   ],
   "source": [
    "temp = float(input(\"Enter the temperature: \"))\n",
    "unit = input(\"Enter the unit (C for Celsius, F for Fahrenheit, K for Kelvin): \").upper()\n",
    "if unit == \"C\":\n",
    "    \n",
    "    fahrenheit = (temp * 9/5) + 32\n",
    "    kelvin = temp + 273.15\n",
    "    print(f\"{temp}°C is {fahrenheit:.2f}°F and {kelvin:.2f}K\")\n",
    "\n",
    "elif unit == \"F\":\n",
    "    \n",
    "    celsius = (temp - 32) * 5/9\n",
    "    kelvin = celsius + 273.15\n",
    "    print(f\"{temp}°F is {celsius:.2f}°C and {kelvin:.2f}K\")\n",
    "\n",
    "elif unit == \"K\":\n",
    "   \n",
    "    celsius = temp - 273.15ch\n",
    "    fahrenheit = (celsius * 9/5) + 32\n",
    "    print(f\"{temp}K is {celsius:.2f}°C and {fahrenheit:.2f}°F\")\n",
    "\n",
    "else:\n",
    "    print(\"Invalid unit. Please enter C, F, or K.\")\n"
   ]
  }
 ],
 "metadata": {
  "kernelspec": {
   "display_name": "Python 3 (ipykernel)",
   "language": "python",
   "name": "python3"
  },
  "language_info": {
   "codemirror_mode": {
    "name": "ipython",
    "version": 3
   },
   "file_extension": ".py",
   "mimetype": "text/x-python",
   "name": "python",
   "nbconvert_exporter": "python",
   "pygments_lexer": "ipython3",
   "version": "3.12.4"
  }
 },
 "nbformat": 4,
 "nbformat_minor": 5
}
